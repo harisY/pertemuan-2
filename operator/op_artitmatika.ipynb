{
 "cells": [
  {
   "cell_type": "markdown",
   "id": "1a0353bf",
   "metadata": {},
   "source": [
    "# Operator Aritmatika\n",
    "- `+` → operasi tambah  \n",
    "- `-` → operasi pengurangan  \n",
    "- `*` → operasi perkalian  \n",
    "- `/` → operasi pembagian  \n",
    "- `//` → operasi bagi dibulatkan ke bawah  \n",
    "- `%` → operasi modulo (sisa hasil bagi)  \n",
    "- `**` → operasi pangkat"
   ]
  },
  {
   "cell_type": "code",
   "execution_count": null,
   "id": "7919ded6",
   "metadata": {},
   "outputs": [],
   "source": [
    "print(\"=== Operasi aritmatika ===\")\n",
    "\n",
    "nilai_1 = 10\n",
    "nilai_2 = 2\n",
    "\n",
    "# hasil = nilai_1 + nilai_2\n",
    "# shift + alt + arrow down - duplikat baris\n",
    "\n",
    "print(f\"hasil penjuamlahan: {nilai_1 + nilai_2}\")\n",
    "print(f\"hasil pengurangan: {nilai_1 - nilai_2}\")\n",
    "print(f\"hasil perkalian: {nilai_1 * nilai_2}\")\n",
    "print(f\"hasil pembagian: {nilai_1 / nilai_2}\")\n",
    "print(f\"hasil pembagian bulat ke bawah: {nilai_1 // nilai_2}\")\n",
    "print(f\"hasil modulus: {nilai_1 % nilai_2}\")\n",
    "print(f\"hasil pangkat: {nilai_1 ** nilai_2}\")\n",
    "\n",
    "\n"
   ]
  },
  {
   "cell_type": "code",
   "execution_count": null,
   "id": "3ea7a1f8",
   "metadata": {},
   "outputs": [
    {
     "name": "stdout",
     "output_type": "stream",
     "text": [
      "=== Operasi aritmatika menggunakan fungsi input ===\n",
      "20.0\n",
      "2.0\n",
      "hasil penjuamlahan: 22.0\n",
      "hasil pengurangan: 18.0\n",
      "hasil perkalian: 40.0\n",
      "hasil pembagian: 10.0\n",
      "hasil pembagian bulat ke bawah: 10.0\n",
      "hasil modulus: 0.0\n",
      "hasil pangkat: 400.0\n"
     ]
    }
   ],
   "source": [
    "print(\"=== Operasi aritmatika menggunakan fungsi input ===\")\n",
    "\n",
    "nilai_1 = float(input(\"Input Nilai 1: \"))   \n",
    "nilai_2 = float(input(\"Input Nilai 2: \"))\n",
    "\n",
    "print(nilai_1)\n",
    "print(nilai_2)\n",
    "print(f\"hasil penjuamlahan: {nilai_1 + nilai_2}\")\n",
    "print(f\"hasil pengurangan: {nilai_1 - nilai_2}\")\n",
    "print(f\"hasil perkalian: {nilai_1 * nilai_2}\")\n",
    "print(f\"hasil pembagian: {nilai_1 / nilai_2}\")\n",
    "print(f\"hasil pembagian bulat ke bawah: {nilai_1 // nilai_2}\")\n",
    "print(f\"hasil modulus: {nilai_1 % nilai_2}\")\n",
    "print(f\"hasil pangkat: {nilai_1 ** nilai_2}\")\n"
   ]
  }
 ],
 "metadata": {
  "kernelspec": {
   "display_name": "Python 3",
   "language": "python",
   "name": "python3"
  },
  "language_info": {
   "codemirror_mode": {
    "name": "ipython",
    "version": 3
   },
   "file_extension": ".py",
   "mimetype": "text/x-python",
   "name": "python",
   "nbconvert_exporter": "python",
   "pygments_lexer": "ipython3",
   "version": "3.13.1"
  }
 },
 "nbformat": 4,
 "nbformat_minor": 5
}
