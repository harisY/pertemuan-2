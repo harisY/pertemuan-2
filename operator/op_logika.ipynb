{
 "cells": [
  {
   "cell_type": "markdown",
   "id": "17ed288e",
   "metadata": {},
   "source": [
    "# Operator logika\n",
    "Operator logika dipakai untuk menggabungkan ekspresi logika (True/False).\n",
    "Hasil akhirnya juga berupa True atau False.\n",
    "\n",
    "\n",
    "| Operator | Keterangan                 | Contoh                                | Hasil   |\n",
    "|----------|-----------------------------|---------------------------------------|---------|\n",
    "| `and`    | Logika AND (keduanya benar) | `(4 == 5) and (2 != 3)`               | `False` |\n",
    "| `or`     | Logika OR (salah satu benar)| `(4 == 5) or (2 != 3)`                | `True`  |\n",
    "| `not`    | Logika NOT (membalik nilai) | `not (2 == 3)`                        | `True`  |\n",
    "\n"
   ]
  },
  {
   "cell_type": "code",
   "execution_count": null,
   "id": "b5c01ccf",
   "metadata": {},
   "outputs": [
    {
     "name": "stdout",
     "output_type": "stream",
     "text": [
      "Lulus\n"
     ]
    }
   ],
   "source": [
    "# nilai = 75\n",
    "# kehadiran = 80\n",
    "\n",
    "# control + / untuk shortcut comment\n",
    "\n",
    "# pakai fungsi input\n",
    "nilai = float(input(\"Input Nilai: \"))\n",
    "kehadiran = float(input(\"Input Nilai Kehadiran: \"))   \n",
    "\n",
    "# pakai if\n",
    "if nilai >= 75 or kehadiran >= 80:\n",
    "    print(\"Lulus\")\n",
    "else:\n",
    "    print(\"Tidak Lulus\")\n"
   ]
  }
 ],
 "metadata": {
  "kernelspec": {
   "display_name": "Python 3",
   "language": "python",
   "name": "python3"
  },
  "language_info": {
   "codemirror_mode": {
    "name": "ipython",
    "version": 3
   },
   "file_extension": ".py",
   "mimetype": "text/x-python",
   "name": "python",
   "nbconvert_exporter": "python",
   "pygments_lexer": "ipython3",
   "version": "3.13.1"
  }
 },
 "nbformat": 4,
 "nbformat_minor": 5
}
