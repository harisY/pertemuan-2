{
 "cells": [
  {
   "cell_type": "markdown",
   "id": "7c6b995d",
   "metadata": {},
   "source": [
    "# Operator perbandingan\n",
    "\n",
    "Operator perbandigan adalah operator untuk membandingkan 2 nilai.\n",
    "Operator perbandingan pasti menghasilkan nilai kebenaran bool dengan kemungkinannya hanya dua nilai, yaitu benar (True) atau salah (False).\n",
    "\n",
    "| Operator | Deskripsi                           | Contoh   | Hasil   |\n",
    "|----------|-------------------------------------|----------|---------|\n",
    "| `==`     | Sama dengan                         | `4 == 5` | `False` |\n",
    "| `!=`     | Tidak sama dengan                   | `4 != 5` | `True`  |\n",
    "| `>`      | Lebih besar                         | `4 > 5`  | `False` |\n",
    "| `<`      | Lebih kecil                         | `4 < 5`  | `True`  |\n",
    "| `>=`     | Lebih besar atau sama dengan        | `5 >= 5` | `True`  |\n",
    "| `<=`     | Lebih kecil atau sama dengan        | `4 <= 5` | `True`  |\n"
   ]
  },
  {
   "cell_type": "code",
   "execution_count": null,
   "id": "431a981e",
   "metadata": {},
   "outputs": [],
   "source": [
    "print(\"=== Operasi Perbandingan ===\")\n",
    "print(\"1 == 1 =\", 1 == 1) \n",
    "print(\"1 != 2 =\", 1 != 2)\n",
    "print(\"1 > 2 =\", 1 > 2)\n",
    "print(\"1 < 2 =\", 1 < 2)\n",
    "print(\"1 >= 2 =\", 1 >= 2)\n",
    "print(\"1 <= 2 =\", 1 <= 2)\n",
    "\n"
   ]
  },
  {
   "cell_type": "code",
   "execution_count": null,
   "id": "20e4cd19",
   "metadata": {},
   "outputs": [],
   "source": [
    "print(\"=== Contoh Penerapan Operator Perbandingan ===\\n\")\n",
    "\n",
    "bobot_kehadiran = 0.10\n",
    "bobot_tugas = 0.20\n",
    "bobot_uts = 0.30\n",
    "bobot_uas = 0.40\n",
    "\n",
    "# hardcode\n",
    "# kehadiran = 80\n",
    "# tugas = 80\n",
    "# uts = 80\n",
    "# uas = 80    \n",
    "\n",
    "# menggunakan fungsi input\n",
    "kehadiran = float(input(\"Input Nilai Kehadiran: \"))\n",
    "tugas = float(input(\"Input Nilai Tugas: \"))\n",
    "uts = float(input(\"Input Nilai UTS: \"))\n",
    "uas = float(input(\"Input Nilai UAS: \"))   \n",
    "\n",
    "nilai_akhir = (bobot_kehadiran * kehadiran) + (bobot_tugas * tugas) + (bobot_uts * uts) + (bobot_uas * uas)\n",
    "\n",
    "print(\"kehadiran:\", kehadiran)\n",
    "print(\"tugas:\", tugas)\n",
    "print(\"uts:\", uts)\n",
    "print(\"uas:\", uas)\n",
    "\n",
    "print(\"Nilai Akhir:\", nilai_akhir)\n",
    "\n",
    "if nilai_akhir >= 80:\n",
    "    print(\"Grade: A\")\n",
    "elif nilai_akhir >= 70:\n",
    "    print(\"Grade: B\")\n",
    "elif nilai_akhir >= 60:\n",
    "    print(\"Grade: C\")\n",
    "elif nilai_akhir >= 50:\n",
    "    print(\"Grade: D\")\n",
    "else:\n",
    "    print(\"Grade: E\")    \n"
   ]
  }
 ],
 "metadata": {
  "kernelspec": {
   "display_name": "Python 3",
   "language": "python",
   "name": "python3"
  },
  "language_info": {
   "codemirror_mode": {
    "name": "ipython",
    "version": 3
   },
   "file_extension": ".py",
   "mimetype": "text/x-python",
   "name": "python",
   "nbconvert_exporter": "python",
   "pygments_lexer": "ipython3",
   "version": "3.13.1"
  }
 },
 "nbformat": 4,
 "nbformat_minor": 5
}
